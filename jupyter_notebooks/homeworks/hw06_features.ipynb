{
 "cells": [
  {
   "cell_type": "markdown",
   "metadata": {},
   "source": [
    "<center>\n",
    "<img src=\"../../img/ods_stickers.jpg\">\n",
    "## <center>Открытый курс по машинному обучению\n",
    "Автор материала: Data Science Team Lead в Juno Арсений Кравченко. Материал распространяется на условиях лицензии [Creative Commons CC BY-NC-SA 4.0](https://creativecommons.org/licenses/by-nc-sa/4.0/). Можно использовать в любых целях (редактировать, поправлять и брать за основу), кроме коммерческих, но с обязательным упоминанием автора материала.\n"
   ]
  },
  {
   "cell_type": "markdown",
   "metadata": {},
   "source": [
    "# <center>Домашнее задание № 6. Работа с признаками"
   ]
  },
  {
   "cell_type": "markdown",
   "metadata": {},
   "source": [
    "В этом задании мы будем работать с [данными](https://www.kaggle.com/c/two-sigma-connect-rental-listing-inquiries/data) соревнования Kaggle \"Two Sigma Connect: Rental Listing Inquiries\". Ответы на вопросы заполните в [веб-форме](https://goo.gl/forms/WmKWYpvK8kgjbP8j2)."
   ]
  },
  {
   "cell_type": "markdown",
   "metadata": {},
   "source": [
    "<font color='red'>Вопрос 1.</font> При каком значении lmbda, выражение np.log(x) == scipy.stats.boxcox(x, lmbda=lmbda) будет истинным?\n",
    "- 1\n",
    "- 0\n",
    "- $\\frac{1}{x}$\n",
    "- $1 + x$"
   ]
  },
  {
   "cell_type": "code",
   "execution_count": 1,
   "metadata": {},
   "outputs": [],
   "source": [
    "# 0"
   ]
  },
  {
   "cell_type": "markdown",
   "metadata": {},
   "source": [
    "<font color='red'>Вопрос 2.</font> Переменная ``created`` является признаком, содержащим ``datetime``, это объект класса ``pandas.tslib.Timestamp``. Какой способ извлечения признаков будет наименее полезным?\n",
    "- created.weekday() * 24 + created.hour\n",
    "- str(created) c последующим one hot encoding\n",
    "- created.weekday()\n",
    "- created.hour"
   ]
  },
  {
   "cell_type": "code",
   "execution_count": 2,
   "metadata": {},
   "outputs": [],
   "source": [
    "# str(created) c последующим one hot encoding"
   ]
  },
  {
   "cell_type": "markdown",
   "metadata": {},
   "source": [
    "<font color='red'>Вопрос 3. </font> Какую информацию нельзя извлечь из User-Agent?\n",
    "- Версия операционной системы\n",
    "- Разрешение экрана пользователя\n",
    "- Платформу, на базе которой построен браузер\n",
    "- Принадлежит ли запрос роботу-индексатору Яндекса"
   ]
  },
  {
   "cell_type": "code",
   "execution_count": 3,
   "metadata": {},
   "outputs": [],
   "source": [
    "# Разрешение экрана пользователя"
   ]
  },
  {
   "cell_type": "markdown",
   "metadata": {},
   "source": [
    "<font color='red'>Вопрос 4. </font> Мы решаем задачу классификации: есть пары фотографий, нужно определить, являются ли они фотографиями одного и того же объекта. Какой признак будет наиболее релевантен? \n",
    "- Расстояние Левенштейна между названиями моделей фотоаппаратов, данные о модели получены из EXIF\n",
    "- Евклидово расстояние между векторами, полученными из предобученной сети ResNet без полносвязных слоев\n",
    "- Разница (в днях) между датами съемки фотографий, даты съемки получены из EXIF\n",
    "- Разность средней яркости во всех (RGB) каналах обоих изображений"
   ]
  },
  {
   "cell_type": "code",
   "execution_count": 4,
   "metadata": {},
   "outputs": [],
   "source": [
    "# Евклидово расстояние между векторами, полученными из предобученной сети ResNet без полносвязных слоев"
   ]
  },
  {
   "cell_type": "markdown",
   "metadata": {},
   "source": [
    "<font color='red'>Вопрос 5.</font> Для какой из задач отбор признаков (feature selection) будет бесполезен?\n",
    "- Ускорение модели на этапе обучения\n",
    "- Ускорение модели на этапе предсказания\n",
    "- Борьба со слишком большими значениями признаков, ведущими к переполнению\n",
    "- Повышение устойчивости модели"
   ]
  },
  {
   "cell_type": "code",
   "execution_count": 5,
   "metadata": {},
   "outputs": [],
   "source": [
    "# Борьба со слишком большими значениями признаков, ведущими к переполнению"
   ]
  },
  {
   "cell_type": "code",
   "execution_count": 6,
   "metadata": {},
   "outputs": [],
   "source": [
    "import pandas as pd"
   ]
  },
  {
   "cell_type": "markdown",
   "metadata": {},
   "source": [
    "Поменяйте на свой путь к данным ``train.json``, этот файл вы получите после разархивации скачанного с Kaggle ``train.json.zip`` (по правилам Kaggle данные этого соревнования мы не можем распространять)."
   ]
  },
  {
   "cell_type": "code",
   "execution_count": 7,
   "metadata": {},
   "outputs": [],
   "source": [
    "data = pd.read_json('/home/pavelvpster/Temp/train.json')"
   ]
  },
  {
   "cell_type": "code",
   "execution_count": 8,
   "metadata": {},
   "outputs": [
    {
     "data": {
      "text/html": [
       "<div>\n",
       "<style scoped>\n",
       "    .dataframe tbody tr th:only-of-type {\n",
       "        vertical-align: middle;\n",
       "    }\n",
       "\n",
       "    .dataframe tbody tr th {\n",
       "        vertical-align: top;\n",
       "    }\n",
       "\n",
       "    .dataframe thead th {\n",
       "        text-align: right;\n",
       "    }\n",
       "</style>\n",
       "<table border=\"1\" class=\"dataframe\">\n",
       "  <thead>\n",
       "    <tr style=\"text-align: right;\">\n",
       "      <th></th>\n",
       "      <th>bathrooms</th>\n",
       "      <th>bedrooms</th>\n",
       "      <th>building_id</th>\n",
       "      <th>created</th>\n",
       "      <th>description</th>\n",
       "      <th>display_address</th>\n",
       "      <th>features</th>\n",
       "      <th>interest_level</th>\n",
       "      <th>latitude</th>\n",
       "      <th>listing_id</th>\n",
       "      <th>longitude</th>\n",
       "      <th>manager_id</th>\n",
       "      <th>photos</th>\n",
       "      <th>price</th>\n",
       "      <th>street_address</th>\n",
       "    </tr>\n",
       "  </thead>\n",
       "  <tbody>\n",
       "    <tr>\n",
       "      <th>10</th>\n",
       "      <td>1.5</td>\n",
       "      <td>3</td>\n",
       "      <td>53a5b119ba8f7b61d4e010512e0dfc85</td>\n",
       "      <td>2016-06-24 07:54:24</td>\n",
       "      <td>A Brand New 3 Bedroom 1.5 bath ApartmentEnjoy ...</td>\n",
       "      <td>Metropolitan Avenue</td>\n",
       "      <td>[]</td>\n",
       "      <td>medium</td>\n",
       "      <td>40.7145</td>\n",
       "      <td>7211212</td>\n",
       "      <td>-73.9425</td>\n",
       "      <td>5ba989232d0489da1b5f2c45f6688adc</td>\n",
       "      <td>[https://photos.renthop.com/2/7211212_1ed4542e...</td>\n",
       "      <td>3000</td>\n",
       "      <td>792 Metropolitan Avenue</td>\n",
       "    </tr>\n",
       "    <tr>\n",
       "      <th>10000</th>\n",
       "      <td>1.0</td>\n",
       "      <td>2</td>\n",
       "      <td>c5c8a357cba207596b04d1afd1e4f130</td>\n",
       "      <td>2016-06-12 12:19:27</td>\n",
       "      <td></td>\n",
       "      <td>Columbus Avenue</td>\n",
       "      <td>[Doorman, Elevator, Fitness Center, Cats Allow...</td>\n",
       "      <td>low</td>\n",
       "      <td>40.7947</td>\n",
       "      <td>7150865</td>\n",
       "      <td>-73.9667</td>\n",
       "      <td>7533621a882f71e25173b27e3139d83d</td>\n",
       "      <td>[https://photos.renthop.com/2/7150865_be3306c5...</td>\n",
       "      <td>5465</td>\n",
       "      <td>808 Columbus Avenue</td>\n",
       "    </tr>\n",
       "    <tr>\n",
       "      <th>100004</th>\n",
       "      <td>1.0</td>\n",
       "      <td>1</td>\n",
       "      <td>c3ba40552e2120b0acfc3cb5730bb2aa</td>\n",
       "      <td>2016-04-17 03:26:41</td>\n",
       "      <td>Top Top West Village location, beautiful Pre-w...</td>\n",
       "      <td>W 13 Street</td>\n",
       "      <td>[Laundry In Building, Dishwasher, Hardwood Flo...</td>\n",
       "      <td>high</td>\n",
       "      <td>40.7388</td>\n",
       "      <td>6887163</td>\n",
       "      <td>-74.0018</td>\n",
       "      <td>d9039c43983f6e564b1482b273bd7b01</td>\n",
       "      <td>[https://photos.renthop.com/2/6887163_de85c427...</td>\n",
       "      <td>2850</td>\n",
       "      <td>241 W 13 Street</td>\n",
       "    </tr>\n",
       "    <tr>\n",
       "      <th>100007</th>\n",
       "      <td>1.0</td>\n",
       "      <td>1</td>\n",
       "      <td>28d9ad350afeaab8027513a3e52ac8d5</td>\n",
       "      <td>2016-04-18 02:22:02</td>\n",
       "      <td>Building Amenities - Garage - Garden - fitness...</td>\n",
       "      <td>East 49th Street</td>\n",
       "      <td>[Hardwood Floors, No Fee]</td>\n",
       "      <td>low</td>\n",
       "      <td>40.7539</td>\n",
       "      <td>6888711</td>\n",
       "      <td>-73.9677</td>\n",
       "      <td>1067e078446a7897d2da493d2f741316</td>\n",
       "      <td>[https://photos.renthop.com/2/6888711_6e660cee...</td>\n",
       "      <td>3275</td>\n",
       "      <td>333 East 49th Street</td>\n",
       "    </tr>\n",
       "    <tr>\n",
       "      <th>100013</th>\n",
       "      <td>1.0</td>\n",
       "      <td>4</td>\n",
       "      <td>0</td>\n",
       "      <td>2016-04-28 01:32:41</td>\n",
       "      <td>Beautifully renovated 3 bedroom flex 4 bedroom...</td>\n",
       "      <td>West 143rd Street</td>\n",
       "      <td>[Pre-War]</td>\n",
       "      <td>low</td>\n",
       "      <td>40.8241</td>\n",
       "      <td>6934781</td>\n",
       "      <td>-73.9493</td>\n",
       "      <td>98e13ad4b495b9613cef886d79a6291f</td>\n",
       "      <td>[https://photos.renthop.com/2/6934781_1fa4b41a...</td>\n",
       "      <td>3350</td>\n",
       "      <td>500 West 143rd Street</td>\n",
       "    </tr>\n",
       "  </tbody>\n",
       "</table>\n",
       "</div>"
      ],
      "text/plain": [
       "        bathrooms  bedrooms                       building_id  \\\n",
       "10            1.5         3  53a5b119ba8f7b61d4e010512e0dfc85   \n",
       "10000         1.0         2  c5c8a357cba207596b04d1afd1e4f130   \n",
       "100004        1.0         1  c3ba40552e2120b0acfc3cb5730bb2aa   \n",
       "100007        1.0         1  28d9ad350afeaab8027513a3e52ac8d5   \n",
       "100013        1.0         4                                 0   \n",
       "\n",
       "                    created  \\\n",
       "10      2016-06-24 07:54:24   \n",
       "10000   2016-06-12 12:19:27   \n",
       "100004  2016-04-17 03:26:41   \n",
       "100007  2016-04-18 02:22:02   \n",
       "100013  2016-04-28 01:32:41   \n",
       "\n",
       "                                              description  \\\n",
       "10      A Brand New 3 Bedroom 1.5 bath ApartmentEnjoy ...   \n",
       "10000                                                       \n",
       "100004  Top Top West Village location, beautiful Pre-w...   \n",
       "100007  Building Amenities - Garage - Garden - fitness...   \n",
       "100013  Beautifully renovated 3 bedroom flex 4 bedroom...   \n",
       "\n",
       "            display_address  \\\n",
       "10      Metropolitan Avenue   \n",
       "10000       Columbus Avenue   \n",
       "100004          W 13 Street   \n",
       "100007     East 49th Street   \n",
       "100013    West 143rd Street   \n",
       "\n",
       "                                                 features interest_level  \\\n",
       "10                                                     []         medium   \n",
       "10000   [Doorman, Elevator, Fitness Center, Cats Allow...            low   \n",
       "100004  [Laundry In Building, Dishwasher, Hardwood Flo...           high   \n",
       "100007                          [Hardwood Floors, No Fee]            low   \n",
       "100013                                          [Pre-War]            low   \n",
       "\n",
       "        latitude  listing_id  longitude                        manager_id  \\\n",
       "10       40.7145     7211212   -73.9425  5ba989232d0489da1b5f2c45f6688adc   \n",
       "10000    40.7947     7150865   -73.9667  7533621a882f71e25173b27e3139d83d   \n",
       "100004   40.7388     6887163   -74.0018  d9039c43983f6e564b1482b273bd7b01   \n",
       "100007   40.7539     6888711   -73.9677  1067e078446a7897d2da493d2f741316   \n",
       "100013   40.8241     6934781   -73.9493  98e13ad4b495b9613cef886d79a6291f   \n",
       "\n",
       "                                                   photos  price  \\\n",
       "10      [https://photos.renthop.com/2/7211212_1ed4542e...   3000   \n",
       "10000   [https://photos.renthop.com/2/7150865_be3306c5...   5465   \n",
       "100004  [https://photos.renthop.com/2/6887163_de85c427...   2850   \n",
       "100007  [https://photos.renthop.com/2/6888711_6e660cee...   3275   \n",
       "100013  [https://photos.renthop.com/2/6934781_1fa4b41a...   3350   \n",
       "\n",
       "                 street_address  \n",
       "10      792 Metropolitan Avenue  \n",
       "10000       808 Columbus Avenue  \n",
       "100004          241 W 13 Street  \n",
       "100007     333 East 49th Street  \n",
       "100013    500 West 143rd Street  "
      ]
     },
     "execution_count": 8,
     "metadata": {},
     "output_type": "execute_result"
    }
   ],
   "source": [
    "data.head()"
   ]
  },
  {
   "cell_type": "code",
   "execution_count": 9,
   "metadata": {},
   "outputs": [
    {
     "data": {
      "text/plain": [
       "(49352, 15)"
      ]
     },
     "execution_count": 9,
     "metadata": {},
     "output_type": "execute_result"
    }
   ],
   "source": [
    "data.shape"
   ]
  },
  {
   "cell_type": "code",
   "execution_count": 10,
   "metadata": {},
   "outputs": [
    {
     "name": "stdout",
     "output_type": "stream",
     "text": [
      "<class 'pandas.core.frame.DataFrame'>\n",
      "Int64Index: 49352 entries, 10 to 99994\n",
      "Data columns (total 15 columns):\n",
      "bathrooms          49352 non-null float64\n",
      "bedrooms           49352 non-null int64\n",
      "building_id        49352 non-null object\n",
      "created            49352 non-null object\n",
      "description        49352 non-null object\n",
      "display_address    49352 non-null object\n",
      "features           49352 non-null object\n",
      "interest_level     49352 non-null object\n",
      "latitude           49352 non-null float64\n",
      "listing_id         49352 non-null int64\n",
      "longitude          49352 non-null float64\n",
      "manager_id         49352 non-null object\n",
      "photos             49352 non-null object\n",
      "price              49352 non-null int64\n",
      "street_address     49352 non-null object\n",
      "dtypes: float64(3), int64(3), object(9)\n",
      "memory usage: 6.0+ MB\n"
     ]
    }
   ],
   "source": [
    "data.info()"
   ]
  },
  {
   "cell_type": "markdown",
   "metadata": {},
   "source": [
    "<font color='red'>Вопрос 6.</font> В каком из районов находится точка с координатами (40.825142, -73.909171)?"
   ]
  },
  {
   "cell_type": "code",
   "execution_count": 11,
   "metadata": {},
   "outputs": [
    {
     "name": "stdout",
     "output_type": "stream",
     "text": [
      "Location: 962, Washington Avenue, Gouverneur Morris Houses, Bronx, Bronx County, NYC, New York, 10456, United States of America\n"
     ]
    }
   ],
   "source": [
    "''' ВАШ КОД ЗДЕСЬ '''\n",
    "\n",
    "from geopy.geocoders import Nominatim\n",
    "\n",
    "geolocator = Nominatim()\n",
    "location = geolocator.reverse(\"40.825142, -73.909171\")\n",
    "\n",
    "print('Location:', location)\n"
   ]
  },
  {
   "cell_type": "code",
   "execution_count": 12,
   "metadata": {},
   "outputs": [],
   "source": [
    "# Bronx"
   ]
  },
  {
   "cell_type": "markdown",
   "metadata": {},
   "source": [
    "Обучите ``CountVectorizer`` из ``scikit-learn``, используя колонку ``Description`` из датасета \"Two Sigma Connect: Rental Listing Inquires\" таким образом, чтобы в словаре было не более 1000 слов, не меняя прочие параметры по умолчанию. \n",
    "<font color='red'>Вопрос 7.</font> Какое слово соответствует индексу 165 в словаре обученного ``CountVectorizer``?"
   ]
  },
  {
   "cell_type": "code",
   "execution_count": 13,
   "metadata": {},
   "outputs": [
    {
     "data": {
      "text/plain": [
       "CountVectorizer(analyzer='word', binary=False, decode_error='strict',\n",
       "        dtype=<class 'numpy.int64'>, encoding='utf-8', input='content',\n",
       "        lowercase=True, max_df=1.0, max_features=1000, min_df=1,\n",
       "        ngram_range=(1, 1), preprocessor=None, stop_words=None,\n",
       "        strip_accents=None, token_pattern='(?u)\\\\b\\\\w\\\\w+\\\\b',\n",
       "        tokenizer=None, vocabulary=None)"
      ]
     },
     "execution_count": 13,
     "metadata": {},
     "output_type": "execute_result"
    }
   ],
   "source": [
    "''' ВАШ КОД ЗДЕСЬ '''\n",
    "\n",
    "from sklearn.feature_extraction.text import CountVectorizer\n",
    "\n",
    "vect = CountVectorizer(max_features=1000)\n",
    "vect.fit(data['description'])\n"
   ]
  },
  {
   "cell_type": "code",
   "execution_count": 14,
   "metadata": {},
   "outputs": [
    {
     "data": {
      "text/plain": [
       "'if'"
      ]
     },
     "execution_count": 14,
     "metadata": {},
     "output_type": "execute_result"
    }
   ],
   "source": [
    "list(vect.vocabulary_.keys())[165]"
   ]
  },
  {
   "cell_type": "markdown",
   "metadata": {},
   "source": [
    "Используя датасет \"Two Sigma Connect: Rental Listing\", обработанный при помощи [скрипта](https://github.com/Yorko/mlcourse_open/blob/master/jupyter_notebooks/topic06_features/demo.py), отмасштабируйте его при помощи ``MinMaxScaler`` и удалите признаки с дисперсией меньше 0.1. \n",
    "<font color='red'>Вопрос 8.</font> Сколько признаков осталось в датасете?"
   ]
  },
  {
   "cell_type": "code",
   "execution_count": 15,
   "metadata": {},
   "outputs": [],
   "source": [
    "# %load '../topic06_features/demo.py'\n",
    "import numpy as np\n",
    "import pandas as pd\n",
    "import json\n",
    "from sklearn.base import TransformerMixin\n",
    "\n",
    "EPSILON = 1e-5\n",
    "\n",
    "\n",
    "class FeatureEngineer(TransformerMixin):\n",
    "\n",
    "    def apply(self, df, k, condition):\n",
    "        df[k] = df['features'].apply(condition)\n",
    "        df[k] = df[k].astype(np.int8)\n",
    "\n",
    "    def fit(self, X, y=None, **fit_params):\n",
    "        return self\n",
    "\n",
    "    def transform(self, X, y=None):\n",
    "        df = X.copy()\n",
    "\n",
    "        df.features = df.features.apply(lambda x: ' '.join([y.replace(' ', '_') for y in x]))\n",
    "        df.features = df.features.apply(lambda x: x.lower())\n",
    "        df.features = df.features.apply(lambda x: x.replace('-', '_'))\n",
    "\n",
    "        for k, condition in (('dishwasher', lambda x: 'dishwasher' in x),\n",
    "                             ('doorman', lambda x: 'doorman' in x or 'concierge' in x),\n",
    "                             ('pets', lambda x: \"pets\" in x or \"pet\" in x or \"dog\" in x or \"cats\" in x and \"no_pets\" not in x),\n",
    "                             ('air_conditioning', lambda x: 'air_conditioning' in x or 'central' in x),\n",
    "                             ('parking', lambda x: 'parking' in x),\n",
    "                             ('balcony', lambda x: 'balcony' in x or 'deck' in x or 'terrace' in x or 'patio' in x),\n",
    "                             ('bike', lambda x: 'bike' in x),\n",
    "                             ('storage', lambda x: 'storage' in x),\n",
    "                             ('outdoor', lambda x: 'outdoor' in x or 'courtyard' in x or 'garden' in x),\n",
    "                             ('roof', lambda x: 'roof' in x),\n",
    "                             ('gym', lambda x: 'gym' in x or 'fitness' in x),\n",
    "                             ('pool', lambda x: 'pool' in x),\n",
    "                             ('backyard', lambda x: 'backyard' in x),\n",
    "                             ('laundry', lambda x: 'laundry' in x),\n",
    "                             ('hardwood_floors', lambda x: 'hardwood_floors' in x),\n",
    "                             ('new_construction', lambda x: 'new_construction' in x),\n",
    "                             ('dryer', lambda x: 'dryer' in x),\n",
    "                             ('elevator', lambda x: 'elevator' in x),\n",
    "                             ('garage', lambda x: 'garage' in x),\n",
    "                             ('pre_war', lambda x: 'pre_war' in x or 'prewar' in x),\n",
    "                             ('post_war', lambda x: 'post_war' in x or 'postwar' in x),\n",
    "                             ('no_fee', lambda x: 'no_fee' in x),\n",
    "                             ('low_fee', lambda x: 'reduced_fee' in x or 'low_fee' in x),\n",
    "                             ('fire', lambda x: 'fireplace' in x),\n",
    "                             ('private', lambda x: 'private' in x),\n",
    "                             ('wheelchair', lambda x: 'wheelchair' in x),\n",
    "                             ('internet', lambda x: 'wifi' in x or 'wi_fi' in x or 'internet' in x),\n",
    "                             ('yoga', lambda x: 'yoga' in x),\n",
    "                             ('furnished', lambda x: 'furnished' in x),\n",
    "                             ('multi_level', lambda x: 'multi_level' in x),\n",
    "                             ('exclusive', lambda x: 'exclusive' in x),\n",
    "                             ('high_ceil', lambda x: 'high_ceil' in x),\n",
    "                             ('green', lambda x: 'green_b' in x),\n",
    "                             ('stainless', lambda x: 'stainless_' in x),\n",
    "                             ('simplex', lambda x: 'simplex' in x),\n",
    "                             ('public', lambda x: 'public' in x),\n",
    "                             ):\n",
    "            self.apply(df, k, condition)\n",
    "\n",
    "        df['bathrooms'] = df['bathrooms'].apply(lambda x: x if x < 5 else 5)\n",
    "        df['bedrooms'] = df['bedrooms'].apply(lambda x: x if x < 5 else 5)\n",
    "        df[\"num_photos\"] = df[\"photos\"].apply(len)\n",
    "        df[\"num_features\"] = df[\"features\"].apply(len)\n",
    "        created = pd.to_datetime(df.pop(\"created\"))\n",
    "        df[\"listing_age\"] = (pd.to_datetime('today') - created).apply(lambda x: x.days)\n",
    "        df[\"room_dif\"] = df[\"bedrooms\"] - df[\"bathrooms\"]\n",
    "        df[\"room_sum\"] = df[\"bedrooms\"] + df[\"bathrooms\"]\n",
    "        df[\"price_per_room\"] = df[\"price\"] / df[\"room_sum\"].apply(lambda x: max(x, .5))\n",
    "        df[\"bedrooms_share\"] = df[\"bedrooms\"] / df[\"room_sum\"].apply(lambda x: max(x, .5))\n",
    "        df['price'] = df['price'].apply(lambda x: np.log(x + EPSILON))\n",
    "\n",
    "        key_types = df.dtypes.to_dict()\n",
    "        for k in key_types:\n",
    "            if key_types[k].name not in ('int64', 'float64', 'int8'):\n",
    "                df.pop(k)\n",
    "\n",
    "        for k in ('latitude', 'longitude', 'listing_id'):\n",
    "            df.pop(k)\n",
    "        return df\n",
    "\n",
    "\n",
    "def encode(x):\n",
    "    if x == 'low':\n",
    "        return 0\n",
    "    elif x == 'medium':\n",
    "        return 1\n",
    "    elif x == 'high':\n",
    "        return 2\n",
    "\n",
    "\n",
    "def get_data():\n",
    "    with open('train.json', 'r') as raw_data:\n",
    "        data = json.load(raw_data)\n",
    "\n",
    "    df = pd.DataFrame(data)\n",
    "    target = df.pop('interest_level').apply(encode)\n",
    "\n",
    "    df = FeatureEngineer().fit_transform(df)\n",
    "    return df, target\n"
   ]
  },
  {
   "cell_type": "code",
   "execution_count": 16,
   "metadata": {},
   "outputs": [],
   "source": [
    "\n",
    "def get_data_ex(filename):\n",
    "    with open(filename, 'r') as raw_data:\n",
    "        data = json.load(raw_data)\n",
    "\n",
    "    df = pd.DataFrame(data)\n",
    "    target = df.pop('interest_level').apply(encode)\n",
    "\n",
    "    df = FeatureEngineer().fit_transform(df)\n",
    "    return df, target\n",
    "\n",
    "\n",
    "processed_data, y = get_data_ex('/home/pavelvpster/Temp/train.json')\n"
   ]
  },
  {
   "cell_type": "code",
   "execution_count": 17,
   "metadata": {},
   "outputs": [
    {
     "data": {
      "text/html": [
       "<div>\n",
       "<style scoped>\n",
       "    .dataframe tbody tr th:only-of-type {\n",
       "        vertical-align: middle;\n",
       "    }\n",
       "\n",
       "    .dataframe tbody tr th {\n",
       "        vertical-align: top;\n",
       "    }\n",
       "\n",
       "    .dataframe thead th {\n",
       "        text-align: right;\n",
       "    }\n",
       "</style>\n",
       "<table border=\"1\" class=\"dataframe\">\n",
       "  <thead>\n",
       "    <tr style=\"text-align: right;\">\n",
       "      <th></th>\n",
       "      <th>bathrooms</th>\n",
       "      <th>bedrooms</th>\n",
       "      <th>price</th>\n",
       "      <th>dishwasher</th>\n",
       "      <th>doorman</th>\n",
       "      <th>pets</th>\n",
       "      <th>air_conditioning</th>\n",
       "      <th>parking</th>\n",
       "      <th>balcony</th>\n",
       "      <th>bike</th>\n",
       "      <th>...</th>\n",
       "      <th>stainless</th>\n",
       "      <th>simplex</th>\n",
       "      <th>public</th>\n",
       "      <th>num_photos</th>\n",
       "      <th>num_features</th>\n",
       "      <th>listing_age</th>\n",
       "      <th>room_dif</th>\n",
       "      <th>room_sum</th>\n",
       "      <th>price_per_room</th>\n",
       "      <th>bedrooms_share</th>\n",
       "    </tr>\n",
       "  </thead>\n",
       "  <tbody>\n",
       "    <tr>\n",
       "      <th>10</th>\n",
       "      <td>1.5</td>\n",
       "      <td>3</td>\n",
       "      <td>8.006368</td>\n",
       "      <td>0</td>\n",
       "      <td>0</td>\n",
       "      <td>0</td>\n",
       "      <td>0</td>\n",
       "      <td>0</td>\n",
       "      <td>0</td>\n",
       "      <td>0</td>\n",
       "      <td>...</td>\n",
       "      <td>0</td>\n",
       "      <td>0</td>\n",
       "      <td>0</td>\n",
       "      <td>5</td>\n",
       "      <td>0</td>\n",
       "      <td>576</td>\n",
       "      <td>1.5</td>\n",
       "      <td>4.5</td>\n",
       "      <td>666.666667</td>\n",
       "      <td>0.666667</td>\n",
       "    </tr>\n",
       "    <tr>\n",
       "      <th>10000</th>\n",
       "      <td>1.0</td>\n",
       "      <td>2</td>\n",
       "      <td>8.606119</td>\n",
       "      <td>0</td>\n",
       "      <td>1</td>\n",
       "      <td>1</td>\n",
       "      <td>0</td>\n",
       "      <td>0</td>\n",
       "      <td>0</td>\n",
       "      <td>0</td>\n",
       "      <td>...</td>\n",
       "      <td>0</td>\n",
       "      <td>0</td>\n",
       "      <td>0</td>\n",
       "      <td>11</td>\n",
       "      <td>57</td>\n",
       "      <td>588</td>\n",
       "      <td>1.0</td>\n",
       "      <td>3.0</td>\n",
       "      <td>1821.666667</td>\n",
       "      <td>0.666667</td>\n",
       "    </tr>\n",
       "    <tr>\n",
       "      <th>100004</th>\n",
       "      <td>1.0</td>\n",
       "      <td>1</td>\n",
       "      <td>7.955074</td>\n",
       "      <td>1</td>\n",
       "      <td>0</td>\n",
       "      <td>1</td>\n",
       "      <td>0</td>\n",
       "      <td>0</td>\n",
       "      <td>0</td>\n",
       "      <td>0</td>\n",
       "      <td>...</td>\n",
       "      <td>0</td>\n",
       "      <td>0</td>\n",
       "      <td>0</td>\n",
       "      <td>8</td>\n",
       "      <td>72</td>\n",
       "      <td>644</td>\n",
       "      <td>0.0</td>\n",
       "      <td>2.0</td>\n",
       "      <td>1425.000000</td>\n",
       "      <td>0.500000</td>\n",
       "    </tr>\n",
       "    <tr>\n",
       "      <th>100007</th>\n",
       "      <td>1.0</td>\n",
       "      <td>1</td>\n",
       "      <td>8.094073</td>\n",
       "      <td>0</td>\n",
       "      <td>0</td>\n",
       "      <td>0</td>\n",
       "      <td>0</td>\n",
       "      <td>0</td>\n",
       "      <td>0</td>\n",
       "      <td>0</td>\n",
       "      <td>...</td>\n",
       "      <td>0</td>\n",
       "      <td>0</td>\n",
       "      <td>0</td>\n",
       "      <td>3</td>\n",
       "      <td>22</td>\n",
       "      <td>643</td>\n",
       "      <td>0.0</td>\n",
       "      <td>2.0</td>\n",
       "      <td>1637.500000</td>\n",
       "      <td>0.500000</td>\n",
       "    </tr>\n",
       "    <tr>\n",
       "      <th>100013</th>\n",
       "      <td>1.0</td>\n",
       "      <td>4</td>\n",
       "      <td>8.116716</td>\n",
       "      <td>0</td>\n",
       "      <td>0</td>\n",
       "      <td>0</td>\n",
       "      <td>0</td>\n",
       "      <td>0</td>\n",
       "      <td>0</td>\n",
       "      <td>0</td>\n",
       "      <td>...</td>\n",
       "      <td>0</td>\n",
       "      <td>0</td>\n",
       "      <td>0</td>\n",
       "      <td>3</td>\n",
       "      <td>7</td>\n",
       "      <td>633</td>\n",
       "      <td>3.0</td>\n",
       "      <td>5.0</td>\n",
       "      <td>670.000000</td>\n",
       "      <td>0.800000</td>\n",
       "    </tr>\n",
       "  </tbody>\n",
       "</table>\n",
       "<p>5 rows × 46 columns</p>\n",
       "</div>"
      ],
      "text/plain": [
       "        bathrooms  bedrooms     price  dishwasher  doorman  pets  \\\n",
       "10            1.5         3  8.006368           0        0     0   \n",
       "10000         1.0         2  8.606119           0        1     1   \n",
       "100004        1.0         1  7.955074           1        0     1   \n",
       "100007        1.0         1  8.094073           0        0     0   \n",
       "100013        1.0         4  8.116716           0        0     0   \n",
       "\n",
       "        air_conditioning  parking  balcony  bike       ...        stainless  \\\n",
       "10                     0        0        0     0       ...                0   \n",
       "10000                  0        0        0     0       ...                0   \n",
       "100004                 0        0        0     0       ...                0   \n",
       "100007                 0        0        0     0       ...                0   \n",
       "100013                 0        0        0     0       ...                0   \n",
       "\n",
       "        simplex  public  num_photos  num_features  listing_age  room_dif  \\\n",
       "10            0       0           5             0          576       1.5   \n",
       "10000         0       0          11            57          588       1.0   \n",
       "100004        0       0           8            72          644       0.0   \n",
       "100007        0       0           3            22          643       0.0   \n",
       "100013        0       0           3             7          633       3.0   \n",
       "\n",
       "        room_sum  price_per_room  bedrooms_share  \n",
       "10           4.5      666.666667        0.666667  \n",
       "10000        3.0     1821.666667        0.666667  \n",
       "100004       2.0     1425.000000        0.500000  \n",
       "100007       2.0     1637.500000        0.500000  \n",
       "100013       5.0      670.000000        0.800000  \n",
       "\n",
       "[5 rows x 46 columns]"
      ]
     },
     "execution_count": 17,
     "metadata": {},
     "output_type": "execute_result"
    }
   ],
   "source": [
    "processed_data.head()"
   ]
  },
  {
   "cell_type": "code",
   "execution_count": 18,
   "metadata": {},
   "outputs": [
    {
     "data": {
      "text/plain": [
       "dishwasher         0.243914\n",
       "doorman            0.244649\n",
       "pets               0.249652\n",
       "balcony            0.169148\n",
       "outdoor            0.136494\n",
       "roof               0.123701\n",
       "gym                0.196782\n",
       "laundry            0.249745\n",
       "hardwood_floors    0.249491\n",
       "elevator           0.248953\n",
       "pre_war            0.167713\n",
       "no_fee             0.232072\n",
       "dtype: float64"
      ]
     },
     "execution_count": 18,
     "metadata": {},
     "output_type": "execute_result"
    }
   ],
   "source": [
    "\n",
    "from sklearn.preprocessing import MinMaxScaler\n",
    "\n",
    "scaled_data = pd.DataFrame(MinMaxScaler().fit_transform(processed_data),\n",
    "                           index=processed_data.index, columns=processed_data.columns)\n",
    "\n",
    "filtered_data = scaled_data.loc[:, scaled_data.var() >= 0.1]\n",
    "\n",
    "filtered_data.apply(np.var)\n"
   ]
  },
  {
   "cell_type": "code",
   "execution_count": null,
   "metadata": {},
   "outputs": [],
   "source": []
  }
 ],
 "metadata": {
  "kernelspec": {
   "display_name": "Python 3",
   "language": "python",
   "name": "python3"
  },
  "language_info": {
   "codemirror_mode": {
    "name": "ipython",
    "version": 3
   },
   "file_extension": ".py",
   "mimetype": "text/x-python",
   "name": "python",
   "nbconvert_exporter": "python",
   "pygments_lexer": "ipython3",
   "version": "3.5.2"
  }
 },
 "nbformat": 4,
 "nbformat_minor": 2
}
