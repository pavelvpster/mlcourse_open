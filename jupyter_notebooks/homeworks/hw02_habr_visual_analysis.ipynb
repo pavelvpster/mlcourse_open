{
 "cells": [
  {
   "cell_type": "markdown",
   "metadata": {},
   "source": [
    "<center>\n",
    "<img src=\"../../img/ods_stickers.jpg\">\n",
    "## Открытый курс по машинному обучению\n",
    "Автор материала: Data Scientist в Segmento Екатерина Демидова. Материал распространяется на условиях лицензии [Creative Commons CC BY-NC-SA 4.0](https://creativecommons.org/licenses/by-nc-sa/4.0/). Можно использовать в любых целях (редактировать, поправлять и брать за основу), кроме коммерческих, но с обязательным упоминанием автора материала."
   ]
  },
  {
   "cell_type": "markdown",
   "metadata": {},
   "source": [
    "# <center>Домашнее задание 2. <br> Визуальный анализ данных о публикациях на Хабрахабре</center>"
   ]
  },
  {
   "cell_type": "markdown",
   "metadata": {},
   "source": [
    "**Заполните код в клетках и выберите ответы в [веб-форме](https://docs.google.com/forms/d/1exliJqAEZeBFewbiLT6nFGFU_ICAsUMtrJUMXF1-WNg/edit).**"
   ]
  },
  {
   "cell_type": "code",
   "execution_count": 1,
   "metadata": {},
   "outputs": [],
   "source": [
    "import warnings\n",
    "warnings.simplefilter('ignore')\n",
    "import pandas as pd\n",
    "\n",
    "%matplotlib inline\n",
    "import seaborn as sns\n",
    "import matplotlib.pyplot as plt"
   ]
  },
  {
   "cell_type": "markdown",
   "metadata": {},
   "source": [
    "## Загрузка и знакомство с данными\n",
    "\n",
    "Для работы вам понадобятся данные из нашего учебного конкурса на kaggle [«Прогноз популярности статьи на Хабре»](https://inclass.kaggle.com/c/howpop-habrahabr-favs-lognorm). Файл **`howpop_train.csv`** уже лежит в нашем репозитории в каталоге **`data`**, но его можно скачать и с Kaggle."
   ]
  },
  {
   "cell_type": "code",
   "execution_count": 2,
   "metadata": {},
   "outputs": [],
   "source": [
    "df = pd.read_csv('../../data/howpop_train.csv')"
   ]
  },
  {
   "cell_type": "code",
   "execution_count": 3,
   "metadata": {},
   "outputs": [
    {
     "data": {
      "text/plain": [
       "(134137, 17)"
      ]
     },
     "execution_count": 3,
     "metadata": {},
     "output_type": "execute_result"
    }
   ],
   "source": [
    "df.shape"
   ]
  },
  {
   "cell_type": "code",
   "execution_count": 4,
   "metadata": {},
   "outputs": [
    {
     "data": {
      "text/html": [
       "<div>\n",
       "<style scoped>\n",
       "    .dataframe tbody tr th:only-of-type {\n",
       "        vertical-align: middle;\n",
       "    }\n",
       "\n",
       "    .dataframe tbody tr th {\n",
       "        vertical-align: top;\n",
       "    }\n",
       "\n",
       "    .dataframe thead th {\n",
       "        text-align: right;\n",
       "    }\n",
       "</style>\n",
       "<table border=\"1\" class=\"dataframe\">\n",
       "  <thead>\n",
       "    <tr style=\"text-align: right;\">\n",
       "      <th></th>\n",
       "      <th>0</th>\n",
       "      <th>1</th>\n",
       "      <th>2</th>\n",
       "    </tr>\n",
       "  </thead>\n",
       "  <tbody>\n",
       "    <tr>\n",
       "      <th>url</th>\n",
       "      <td>https://habrahabr.ru/post/18284/</td>\n",
       "      <td>https://habrahabr.ru/post/18285/</td>\n",
       "      <td>https://habrahabr.ru/post/18286/</td>\n",
       "    </tr>\n",
       "    <tr>\n",
       "      <th>domain</th>\n",
       "      <td>habrahabr.ru</td>\n",
       "      <td>habrahabr.ru</td>\n",
       "      <td>habrahabr.ru</td>\n",
       "    </tr>\n",
       "    <tr>\n",
       "      <th>post_id</th>\n",
       "      <td>18284</td>\n",
       "      <td>18285</td>\n",
       "      <td>18286</td>\n",
       "    </tr>\n",
       "    <tr>\n",
       "      <th>published</th>\n",
       "      <td>2008-01-01 18:19:00</td>\n",
       "      <td>2008-01-01 18:30:00</td>\n",
       "      <td>2008-01-01 18:34:00</td>\n",
       "    </tr>\n",
       "    <tr>\n",
       "      <th>author</th>\n",
       "      <td>@Tapac</td>\n",
       "      <td>@DezmASter</td>\n",
       "      <td>@DezmASter</td>\n",
       "    </tr>\n",
       "    <tr>\n",
       "      <th>flow</th>\n",
       "      <td>develop</td>\n",
       "      <td>design</td>\n",
       "      <td>design</td>\n",
       "    </tr>\n",
       "    <tr>\n",
       "      <th>polling</th>\n",
       "      <td>False</td>\n",
       "      <td>False</td>\n",
       "      <td>False</td>\n",
       "    </tr>\n",
       "    <tr>\n",
       "      <th>content_len</th>\n",
       "      <td>4305</td>\n",
       "      <td>7344</td>\n",
       "      <td>8431</td>\n",
       "    </tr>\n",
       "    <tr>\n",
       "      <th>title</th>\n",
       "      <td>Новогодний подарок блоггерам — WordPress 2.3.2</td>\n",
       "      <td>Сумасшедшие яйца, или сервис для отслеживания ...</td>\n",
       "      <td>Сумасшедшие яйца, или сервис для отслеживания ...</td>\n",
       "    </tr>\n",
       "    <tr>\n",
       "      <th>comments</th>\n",
       "      <td>0</td>\n",
       "      <td>1</td>\n",
       "      <td>47</td>\n",
       "    </tr>\n",
       "    <tr>\n",
       "      <th>favs</th>\n",
       "      <td>0</td>\n",
       "      <td>1</td>\n",
       "      <td>72</td>\n",
       "    </tr>\n",
       "    <tr>\n",
       "      <th>views</th>\n",
       "      <td>236</td>\n",
       "      <td>353</td>\n",
       "      <td>1200</td>\n",
       "    </tr>\n",
       "    <tr>\n",
       "      <th>votes_plus</th>\n",
       "      <td>0</td>\n",
       "      <td>1</td>\n",
       "      <td>45</td>\n",
       "    </tr>\n",
       "    <tr>\n",
       "      <th>votes_minus</th>\n",
       "      <td>0</td>\n",
       "      <td>0</td>\n",
       "      <td>5</td>\n",
       "    </tr>\n",
       "    <tr>\n",
       "      <th>views_lognorm</th>\n",
       "      <td>-0.792687</td>\n",
       "      <td>-0.485214</td>\n",
       "      <td>0.44609</td>\n",
       "    </tr>\n",
       "    <tr>\n",
       "      <th>favs_lognorm</th>\n",
       "      <td>-1.34407</td>\n",
       "      <td>-0.831946</td>\n",
       "      <td>1.79402</td>\n",
       "    </tr>\n",
       "    <tr>\n",
       "      <th>comments_lognorm</th>\n",
       "      <td>-2.43687</td>\n",
       "      <td>-1.87319</td>\n",
       "      <td>0.574656</td>\n",
       "    </tr>\n",
       "  </tbody>\n",
       "</table>\n",
       "</div>"
      ],
      "text/plain": [
       "                                                               0  \\\n",
       "url                             https://habrahabr.ru/post/18284/   \n",
       "domain                                              habrahabr.ru   \n",
       "post_id                                                    18284   \n",
       "published                                    2008-01-01 18:19:00   \n",
       "author                                                    @Tapac   \n",
       "flow                                                     develop   \n",
       "polling                                                    False   \n",
       "content_len                                                 4305   \n",
       "title             Новогодний подарок блоггерам — WordPress 2.3.2   \n",
       "comments                                                       0   \n",
       "favs                                                           0   \n",
       "views                                                        236   \n",
       "votes_plus                                                     0   \n",
       "votes_minus                                                    0   \n",
       "views_lognorm                                          -0.792687   \n",
       "favs_lognorm                                            -1.34407   \n",
       "comments_lognorm                                        -2.43687   \n",
       "\n",
       "                                                                  1  \\\n",
       "url                                https://habrahabr.ru/post/18285/   \n",
       "domain                                                 habrahabr.ru   \n",
       "post_id                                                       18285   \n",
       "published                                       2008-01-01 18:30:00   \n",
       "author                                                   @DezmASter   \n",
       "flow                                                         design   \n",
       "polling                                                       False   \n",
       "content_len                                                    7344   \n",
       "title             Сумасшедшие яйца, или сервис для отслеживания ...   \n",
       "comments                                                          1   \n",
       "favs                                                              1   \n",
       "views                                                           353   \n",
       "votes_plus                                                        1   \n",
       "votes_minus                                                       0   \n",
       "views_lognorm                                             -0.485214   \n",
       "favs_lognorm                                              -0.831946   \n",
       "comments_lognorm                                           -1.87319   \n",
       "\n",
       "                                                                  2  \n",
       "url                                https://habrahabr.ru/post/18286/  \n",
       "domain                                                 habrahabr.ru  \n",
       "post_id                                                       18286  \n",
       "published                                       2008-01-01 18:34:00  \n",
       "author                                                   @DezmASter  \n",
       "flow                                                         design  \n",
       "polling                                                       False  \n",
       "content_len                                                    8431  \n",
       "title             Сумасшедшие яйца, или сервис для отслеживания ...  \n",
       "comments                                                         47  \n",
       "favs                                                             72  \n",
       "views                                                          1200  \n",
       "votes_plus                                                       45  \n",
       "votes_minus                                                       5  \n",
       "views_lognorm                                               0.44609  \n",
       "favs_lognorm                                                1.79402  \n",
       "comments_lognorm                                           0.574656  "
      ]
     },
     "execution_count": 4,
     "metadata": {},
     "output_type": "execute_result"
    }
   ],
   "source": [
    "df.head(3).T"
   ]
  },
  {
   "cell_type": "markdown",
   "metadata": {},
   "source": [
    "Избавимся сразу от переменных, названия которых заканчиваются на `_lognorm` (нужны для соревнования на Kaggle). Выберем их с помощью `filter()` и удалим `drop`-ом:"
   ]
  },
  {
   "cell_type": "code",
   "execution_count": 5,
   "metadata": {},
   "outputs": [],
   "source": [
    "df.drop(filter(lambda c: c.endswith('_lognorm'), df.columns), \n",
    "        axis = 1,       # axis = 1: столбцы \n",
    "        inplace = True) # избавляет от необходимости сохранять датасет"
   ]
  },
  {
   "cell_type": "code",
   "execution_count": 6,
   "metadata": {},
   "outputs": [
    {
     "data": {
      "text/html": [
       "<div>\n",
       "<style scoped>\n",
       "    .dataframe tbody tr th:only-of-type {\n",
       "        vertical-align: middle;\n",
       "    }\n",
       "\n",
       "    .dataframe tbody tr th {\n",
       "        vertical-align: top;\n",
       "    }\n",
       "\n",
       "    .dataframe thead th {\n",
       "        text-align: right;\n",
       "    }\n",
       "</style>\n",
       "<table border=\"1\" class=\"dataframe\">\n",
       "  <thead>\n",
       "    <tr style=\"text-align: right;\">\n",
       "      <th></th>\n",
       "      <th>count</th>\n",
       "      <th>mean</th>\n",
       "      <th>std</th>\n",
       "      <th>min</th>\n",
       "      <th>25%</th>\n",
       "      <th>50%</th>\n",
       "      <th>75%</th>\n",
       "      <th>max</th>\n",
       "    </tr>\n",
       "  </thead>\n",
       "  <tbody>\n",
       "    <tr>\n",
       "      <th>post_id</th>\n",
       "      <td>134137.0</td>\n",
       "      <td>181307.054265</td>\n",
       "      <td>81766.350702</td>\n",
       "      <td>18284.0</td>\n",
       "      <td>115565.0</td>\n",
       "      <td>182666.0</td>\n",
       "      <td>257401.0</td>\n",
       "      <td>314088.0</td>\n",
       "    </tr>\n",
       "    <tr>\n",
       "      <th>content_len</th>\n",
       "      <td>134137.0</td>\n",
       "      <td>7516.929699</td>\n",
       "      <td>8724.771640</td>\n",
       "      <td>1.0</td>\n",
       "      <td>2179.0</td>\n",
       "      <td>4949.0</td>\n",
       "      <td>9858.0</td>\n",
       "      <td>352471.0</td>\n",
       "    </tr>\n",
       "    <tr>\n",
       "      <th>comments</th>\n",
       "      <td>134137.0</td>\n",
       "      <td>39.625994</td>\n",
       "      <td>62.398958</td>\n",
       "      <td>0.0</td>\n",
       "      <td>7.0</td>\n",
       "      <td>19.0</td>\n",
       "      <td>48.0</td>\n",
       "      <td>2266.0</td>\n",
       "    </tr>\n",
       "    <tr>\n",
       "      <th>favs</th>\n",
       "      <td>134137.0</td>\n",
       "      <td>71.999866</td>\n",
       "      <td>145.854135</td>\n",
       "      <td>0.0</td>\n",
       "      <td>8.0</td>\n",
       "      <td>27.0</td>\n",
       "      <td>78.0</td>\n",
       "      <td>8718.0</td>\n",
       "    </tr>\n",
       "    <tr>\n",
       "      <th>views</th>\n",
       "      <td>134137.0</td>\n",
       "      <td>16631.013084</td>\n",
       "      <td>31479.819691</td>\n",
       "      <td>3.0</td>\n",
       "      <td>2100.0</td>\n",
       "      <td>7600.0</td>\n",
       "      <td>18700.0</td>\n",
       "      <td>1730000.0</td>\n",
       "    </tr>\n",
       "    <tr>\n",
       "      <th>votes_plus</th>\n",
       "      <td>133566.0</td>\n",
       "      <td>35.536888</td>\n",
       "      <td>42.461073</td>\n",
       "      <td>0.0</td>\n",
       "      <td>11.0</td>\n",
       "      <td>22.0</td>\n",
       "      <td>45.0</td>\n",
       "      <td>1466.0</td>\n",
       "    </tr>\n",
       "    <tr>\n",
       "      <th>votes_minus</th>\n",
       "      <td>133566.0</td>\n",
       "      <td>8.050035</td>\n",
       "      <td>11.398282</td>\n",
       "      <td>0.0</td>\n",
       "      <td>2.0</td>\n",
       "      <td>5.0</td>\n",
       "      <td>10.0</td>\n",
       "      <td>445.0</td>\n",
       "    </tr>\n",
       "  </tbody>\n",
       "</table>\n",
       "</div>"
      ],
      "text/plain": [
       "                count           mean           std      min       25%  \\\n",
       "post_id      134137.0  181307.054265  81766.350702  18284.0  115565.0   \n",
       "content_len  134137.0    7516.929699   8724.771640      1.0    2179.0   \n",
       "comments     134137.0      39.625994     62.398958      0.0       7.0   \n",
       "favs         134137.0      71.999866    145.854135      0.0       8.0   \n",
       "views        134137.0   16631.013084  31479.819691      3.0    2100.0   \n",
       "votes_plus   133566.0      35.536888     42.461073      0.0      11.0   \n",
       "votes_minus  133566.0       8.050035     11.398282      0.0       2.0   \n",
       "\n",
       "                  50%       75%        max  \n",
       "post_id      182666.0  257401.0   314088.0  \n",
       "content_len    4949.0    9858.0   352471.0  \n",
       "comments         19.0      48.0     2266.0  \n",
       "favs             27.0      78.0     8718.0  \n",
       "views          7600.0   18700.0  1730000.0  \n",
       "votes_plus       22.0      45.0     1466.0  \n",
       "votes_minus       5.0      10.0      445.0  "
      ]
     },
     "execution_count": 6,
     "metadata": {},
     "output_type": "execute_result"
    }
   ],
   "source": [
    "df.describe().T"
   ]
  },
  {
   "cell_type": "code",
   "execution_count": 7,
   "metadata": {},
   "outputs": [
    {
     "data": {
      "text/html": [
       "<div>\n",
       "<style scoped>\n",
       "    .dataframe tbody tr th:only-of-type {\n",
       "        vertical-align: middle;\n",
       "    }\n",
       "\n",
       "    .dataframe tbody tr th {\n",
       "        vertical-align: top;\n",
       "    }\n",
       "\n",
       "    .dataframe thead th {\n",
       "        text-align: right;\n",
       "    }\n",
       "</style>\n",
       "<table border=\"1\" class=\"dataframe\">\n",
       "  <thead>\n",
       "    <tr style=\"text-align: right;\">\n",
       "      <th></th>\n",
       "      <th>count</th>\n",
       "      <th>unique</th>\n",
       "      <th>top</th>\n",
       "      <th>freq</th>\n",
       "    </tr>\n",
       "  </thead>\n",
       "  <tbody>\n",
       "    <tr>\n",
       "      <th>url</th>\n",
       "      <td>134137</td>\n",
       "      <td>134137</td>\n",
       "      <td>https://habrahabr.ru/company/payler/blog/221781/</td>\n",
       "      <td>1</td>\n",
       "    </tr>\n",
       "    <tr>\n",
       "      <th>domain</th>\n",
       "      <td>134137</td>\n",
       "      <td>2</td>\n",
       "      <td>habrahabr.ru</td>\n",
       "      <td>97048</td>\n",
       "    </tr>\n",
       "    <tr>\n",
       "      <th>published</th>\n",
       "      <td>134137</td>\n",
       "      <td>130291</td>\n",
       "      <td>2011-06-14 15:52:00</td>\n",
       "      <td>39</td>\n",
       "    </tr>\n",
       "    <tr>\n",
       "      <th>author</th>\n",
       "      <td>97657</td>\n",
       "      <td>22077</td>\n",
       "      <td>@alizar</td>\n",
       "      <td>5292</td>\n",
       "    </tr>\n",
       "    <tr>\n",
       "      <th>flow</th>\n",
       "      <td>97048</td>\n",
       "      <td>6</td>\n",
       "      <td>develop</td>\n",
       "      <td>53318</td>\n",
       "    </tr>\n",
       "    <tr>\n",
       "      <th>polling</th>\n",
       "      <td>134137</td>\n",
       "      <td>2</td>\n",
       "      <td>False</td>\n",
       "      <td>129412</td>\n",
       "    </tr>\n",
       "    <tr>\n",
       "      <th>title</th>\n",
       "      <td>134137</td>\n",
       "      <td>133628</td>\n",
       "      <td>Интересные события, произошедшие в выходные</td>\n",
       "      <td>56</td>\n",
       "    </tr>\n",
       "  </tbody>\n",
       "</table>\n",
       "</div>"
      ],
      "text/plain": [
       "            count  unique                                               top  \\\n",
       "url        134137  134137  https://habrahabr.ru/company/payler/blog/221781/   \n",
       "domain     134137       2                                      habrahabr.ru   \n",
       "published  134137  130291                               2011-06-14 15:52:00   \n",
       "author      97657   22077                                           @alizar   \n",
       "flow        97048       6                                           develop   \n",
       "polling    134137       2                                             False   \n",
       "title      134137  133628       Интересные события, произошедшие в выходные   \n",
       "\n",
       "             freq  \n",
       "url             1  \n",
       "domain      97048  \n",
       "published      39  \n",
       "author       5292  \n",
       "flow        53318  \n",
       "polling    129412  \n",
       "title          56  "
      ]
     },
     "execution_count": 7,
     "metadata": {},
     "output_type": "execute_result"
    }
   ],
   "source": [
    "df.describe(include = ['object', 'bool'] # бинарные и категориальные переменные\n",
    "           ).T"
   ]
  },
  {
   "cell_type": "code",
   "execution_count": 8,
   "metadata": {},
   "outputs": [],
   "source": [
    "# настройка внешнего вида графиков в seaborn\n",
    "sns.set_style(\"dark\")\n",
    "sns.set_palette(\"RdBu\")\n",
    "sns.set_context(\"notebook\", font_scale = 1.5, \n",
    "                rc = { \"figure.figsize\" : (15, 5), \"axes.titlesize\" : 18 })"
   ]
  },
  {
   "cell_type": "markdown",
   "metadata": {},
   "source": [
    "Столбец **`published`** (время публикации) содержит строки. Чтобы мы могли работать с этими данными как с датой/временем публикации, приведём их к типу `datetime`:"
   ]
  },
  {
   "cell_type": "code",
   "execution_count": 9,
   "metadata": {},
   "outputs": [
    {
     "name": "stdout",
     "output_type": "stream",
     "text": [
      "object\n",
      "datetime64[ns]\n"
     ]
    }
   ],
   "source": [
    "print(df.published.dtype)\n",
    "df['published'] = pd.to_datetime(df.published, yearfirst = True)\n",
    "print(df.published.dtype)"
   ]
  },
  {
   "cell_type": "markdown",
   "metadata": {},
   "source": [
    "Создадим несколько столбцов на основе данных о времени публикации:"
   ]
  },
  {
   "cell_type": "code",
   "execution_count": 10,
   "metadata": {},
   "outputs": [],
   "source": [
    "df['year'] = [d.year for d in df.published]\n",
    "df['month'] = [d.month for d in df.published]\n",
    "\n",
    "df['dayofweek'] = [d.isoweekday() for d in df.published]\n",
    "df['hour'] = [d.hour for d in df.published]"
   ]
  },
  {
   "cell_type": "markdown",
   "metadata": {},
   "source": [
    "-----\n",
    "Теперь Ваша очередь. В каждом пункте предлагается построить картинку и с ее помощью ответить на вопрос в [форме](https://docs.google.com/forms/d/e/1FAIpQLSf3b5OG8zX_nLQBQ-t20c6M5Auz-VUL-yxj8Fm9_o_XWDBTrg/viewform?c=0&w=1). Конечно, можно попытаться ответить на все вопросы только с Pandas, без картинок, но мы советуем Вам потренироваться строить (красивые) визуализации.   "
   ]
  },
  {
   "cell_type": "markdown",
   "metadata": {},
   "source": [
    "## 1\\. В каком месяце (и какого года) было больше всего публикаций?\n",
    "\n",
    "* март 2016,\n",
    "* март 2015,\n",
    "* апрель 2015,\n",
    "* апрель 2016."
   ]
  },
  {
   "cell_type": "code",
   "execution_count": 24,
   "metadata": {},
   "outputs": [
    {
     "data": {
      "text/plain": [
       "<matplotlib.axes._subplots.AxesSubplot at 0x7fd425eb34e0>"
      ]
     },
     "execution_count": 24,
     "metadata": {},
     "output_type": "execute_result"
    },
    {
     "data": {
      "image/png": "[encoded data removed]",
      "text/plain": [
       "<matplotlib.figure.Figure at 0x7fd425a59f28>"
      ]
     },
     "metadata": {},
     "output_type": "display_data"
    }
   ],
   "source": [
    "temp = df[df['month'].isin([3,4]) & df['year'].isin([2015,2016])]\n",
    "\n",
    "# temp.groupby(['month', 'year'])['post_id'].count()\n",
    "\n",
    "sns.countplot(x='month', hue='year', data=temp)"
   ]
  },
  {
   "cell_type": "markdown",
   "metadata": {},
   "source": [
    "## 2\\. Проанализируйте публикации в этом месяце (из вопроса 1)\n",
    "\n",
    "Выберите один или несколько вариантов:\n",
    "\n",
    "* На графике не заметны какие-либо выбросы или аномалии,\n",
    "* Один или несколько дней сильно выделяются из общей картины,\n",
    "* На хабре _всегда_ больше статей, чем на гиктаймсе,\n",
    "* По субботам на гиктаймс и на хабрахабр публикуют примерно одинаковое число статей.\n",
    "\n",
    "Подсказки: постройте график зависимости числа публикаций от дня; используйте параметр `hue`"
   ]
  },
  {
   "cell_type": "code",
   "execution_count": 26,
   "metadata": {},
   "outputs": [
    {
     "data": {
      "text/plain": [
       "<matplotlib.axes._subplots.AxesSubplot at 0x7fd425a32780>"
      ]
     },
     "execution_count": 26,
     "metadata": {},
     "output_type": "execute_result"
    },
    {
     "data": {
      "image/png": "[encoded data removed]",
      "text/plain": [
       "<matplotlib.figure.Figure at 0x7fd425a22dd8>"
      ]
     },
     "metadata": {},
     "output_type": "display_data"
    }
   ],
   "source": [
    "temp = df[(df['month'] == 3) & (df['year'] == 2015)]\n",
    "\n",
    "# temp.groupby(['dayofweek'])['post_id'].count()\n",
    "\n",
    "sns.countplot(x='dayofweek', data=temp)"
   ]
  },
  {
   "cell_type": "code",
   "execution_count": 27,
   "metadata": {},
   "outputs": [
    {
     "data": {
      "text/plain": [
       "<matplotlib.axes._subplots.AxesSubplot at 0x7fd425a06470>"
      ]
     },
     "execution_count": 27,
     "metadata": {},
     "output_type": "execute_result"
    },
    {
     "data": {
      "image/png": "[encoded data removed]",
      "text/plain": [
       "<matplotlib.figure.Figure at 0x7fd425e20f60>"
      ]
     },
     "metadata": {},
     "output_type": "display_data"
    }
   ],
   "source": [
    "sns.countplot(x='dayofweek', hue='domain', data=temp)"
   ]
  },
  {
   "cell_type": "markdown",
   "metadata": {},
   "source": [
    "## 3\\. Выберите верное утверждение\n",
    "\n",
    "* Больше всего просмотров (в среднем) набирают статьи, опубликованные в 12 часов дня;\n",
    "* У опубликованных в 10 утра постов больше всего комментариев  (в среднем);\n",
    "* Больше всего просмотров  (в среднем) набирают статьи, опубликованные в 6 часов утра;\n",
    "* Максимальное число комментариев на гиктаймсе набрала статья, опубликованная в 9 часов вечера;\n",
    "* На хабре дневные статьи комментируют чаще  (в среднем), чем вечерние."
   ]
  },
  {
   "cell_type": "code",
   "execution_count": 56,
   "metadata": {},
   "outputs": [
    {
     "data": {
      "text/plain": [
       "hour\n",
       "6     21354.310115\n",
       "4     20678.389091\n",
       "7     19093.953408\n",
       "3     18370.017972\n",
       "22    18365.387460\n",
       "20    18134.614873\n",
       "1     17717.709114\n",
       "23    17631.345932\n",
       "21    17605.819064\n",
       "0     17546.982349\n",
       "2     17328.690581\n",
       "5     17218.894242\n",
       "19    16926.284287\n",
       "9     16906.059099\n",
       "18    16731.210843\n",
       "16    16583.150731\n",
       "10    16580.889909\n",
       "11    16331.186818\n",
       "12    16209.416141\n",
       "8     16014.419048\n",
       "13    15822.606055\n",
       "17    15814.881313\n",
       "14    15773.203785\n",
       "15    14739.224017\n",
       "Name: views, dtype: float64"
      ]
     },
     "execution_count": 56,
     "metadata": {},
     "output_type": "execute_result"
    }
   ],
   "source": [
    "df.groupby('hour')['views'].mean().sort_values(ascending=False)"
   ]
  },
  {
   "cell_type": "code",
   "execution_count": 70,
   "metadata": {},
   "outputs": [
    {
     "data": {
      "text/plain": [
       "<matplotlib.axes._subplots.AxesSubplot at 0x7fd41e001908>"
      ]
     },
     "execution_count": 70,
     "metadata": {},
     "output_type": "execute_result"
    },
    {
     "data": {
      "image/png": "[encoded data removed]",
      "text/plain": [
       "<matplotlib.figure.Figure at 0x7fd41dec9438>"
      ]
     },
     "metadata": {},
     "output_type": "display_data"
    }
   ],
   "source": [
    "plt.subplots(figsize=(12,12))\n",
    "sns.boxplot(x='hour', y='views', data=df)"
   ]
  },
  {
   "cell_type": "code",
   "execution_count": 58,
   "metadata": {},
   "outputs": [
    {
     "data": {
      "text/plain": [
       "hour\n",
       "4     53.657273\n",
       "3     53.123877\n",
       "6     51.799618\n",
       "1     49.417910\n",
       "2     48.827025\n",
       "0     48.389066\n",
       "5     47.816686\n",
       "21    46.669970\n",
       "22    46.373220\n",
       "20    45.822556\n",
       "23    45.212471\n",
       "7     43.263561\n",
       "19    41.832716\n",
       "18    40.121553\n",
       "17    39.046573\n",
       "16    38.557664\n",
       "9     37.303444\n",
       "8     36.772222\n",
       "14    36.131046\n",
       "15    36.113566\n",
       "13    35.811908\n",
       "12    35.199744\n",
       "11    34.768697\n",
       "10    33.620052\n",
       "Name: comments, dtype: float64"
      ]
     },
     "execution_count": 58,
     "metadata": {},
     "output_type": "execute_result"
    }
   ],
   "source": [
    "df.groupby('hour')['comments'].mean().sort_values(ascending=False)"
   ]
  },
  {
   "cell_type": "code",
   "execution_count": 71,
   "metadata": {},
   "outputs": [
    {
     "data": {
      "text/plain": [
       "<matplotlib.axes._subplots.AxesSubplot at 0x7fd41dda8828>"
      ]
     },
     "execution_count": 71,
     "metadata": {},
     "output_type": "execute_result"
    },
    {
     "data": {
      "image/png": "[encoded data removed]",
      "text/plain": [
       "<matplotlib.figure.Figure at 0x7fd41dd3f4e0>"
      ]
     },
     "metadata": {},
     "output_type": "display_data"
    }
   ],
   "source": [
    "plt.subplots(figsize=(12,12))\n",
    "sns.boxplot(x='hour', y='comments', data=df)"
   ]
  },
  {
   "cell_type": "markdown",
   "metadata": {},
   "source": [
    "## 4\\. Кого из топ-20 авторов (по числу статей) чаще всего минусуют (в среднем)?\n",
    "\n",
    "* @Mordatyj\n",
    "* @Mithgol\n",
    "* @alizar\n",
    "* @ilya42"
   ]
  },
  {
   "cell_type": "code",
   "execution_count": 72,
   "metadata": {},
   "outputs": [
    {
     "data": {
      "text/plain": [
       "author\n",
       "@Mithgol     20.481081\n",
       "@Mordatyj     7.471455\n",
       "@alizar       7.928191\n",
       "@ilya42       6.216797\n",
       "Name: votes_minus, dtype: float64"
      ]
     },
     "execution_count": 72,
     "metadata": {},
     "output_type": "execute_result"
    }
   ],
   "source": [
    "authors = ['@Mordatyj', '@Mithgol', '@alizar', '@ilya42']\n",
    "\n",
    "df[df['author'].isin(authors)].groupby('author')['votes_minus'].mean()"
   ]
  },
  {
   "cell_type": "code",
   "execution_count": 75,
   "metadata": {},
   "outputs": [
    {
     "data": {
      "text/plain": [
       "<matplotlib.axes._subplots.AxesSubplot at 0x7fd421c3fb38>"
      ]
     },
     "execution_count": 75,
     "metadata": {},
     "output_type": "execute_result"
    },
    {
     "data": {
      "image/png": "[encoded data removed]",
      "text/plain": [
       "<matplotlib.figure.Figure at 0x7fd421c84a90>"
      ]
     },
     "metadata": {},
     "output_type": "display_data"
    }
   ],
   "source": [
    "sns.boxplot(x='author', y='votes_minus', data=df[df['author'].isin(authors)])"
   ]
  },
  {
   "cell_type": "markdown",
   "metadata": {},
   "source": [
    "## 5\\. Сравните субботы и понедельники\n",
    "\n",
    "Правда ли, что по субботам авторы пишут в основном днём, а по понедельникам — в основном вечером?"
   ]
  },
  {
   "cell_type": "code",
   "execution_count": 73,
   "metadata": {},
   "outputs": [
    {
     "data": {
      "text/plain": [
       "dayofweek  hour\n",
       "1          0        537\n",
       "           1        415\n",
       "           2        320\n",
       "           3        209\n",
       "           4        173\n",
       "           5        111\n",
       "           6        226\n",
       "           7        279\n",
       "           8        477\n",
       "           9        962\n",
       "           10      1467\n",
       "           11      1862\n",
       "           12      1994\n",
       "           13      1915\n",
       "           14      1895\n",
       "           15      1823\n",
       "           16      1694\n",
       "           17      1537\n",
       "           18      1404\n",
       "           19      1077\n",
       "           20       888\n",
       "           21       835\n",
       "           22       734\n",
       "           23       802\n",
       "6          0        492\n",
       "           1        376\n",
       "           2        263\n",
       "           3        182\n",
       "           4        107\n",
       "           5        105\n",
       "           6         69\n",
       "           7         95\n",
       "           8        118\n",
       "           9        177\n",
       "           10       237\n",
       "           11       367\n",
       "           12       449\n",
       "           13       502\n",
       "           14       519\n",
       "           15       556\n",
       "           16       479\n",
       "           17       494\n",
       "           18       468\n",
       "           19       441\n",
       "           20       459\n",
       "           21       480\n",
       "           22       482\n",
       "           23       463\n",
       "Name: post_id, dtype: int64"
      ]
     },
     "execution_count": 73,
     "metadata": {},
     "output_type": "execute_result"
    }
   ],
   "source": [
    "df[df['dayofweek'].isin([1, 6])].groupby(['dayofweek', 'hour'])['post_id'].count()"
   ]
  },
  {
   "cell_type": "code",
   "execution_count": 74,
   "metadata": {},
   "outputs": [
    {
     "data": {
      "text/plain": [
       "<matplotlib.axes._subplots.AxesSubplot at 0x7fd41dc00da0>"
      ]
     },
     "execution_count": 74,
     "metadata": {},
     "output_type": "execute_result"
    },
    {
     "data": {
      "image/png": "[encoded data removed]",
      "text/plain": [
       "<matplotlib.figure.Figure at 0x7fd41dc434a8>"
      ]
     },
     "metadata": {},
     "output_type": "display_data"
    }
   ],
   "source": [
    "sns.countplot(x='hour', hue='dayofweek', data=df[df['dayofweek'].isin([1, 6])])"
   ]
  },
  {
   "cell_type": "code",
   "execution_count": null,
   "metadata": {},
   "outputs": [],
   "source": []
  }
 ],
 "metadata": {
  "kernelspec": {
   "display_name": "Python 3",
   "language": "python",
   "name": "python3"
  },
  "language_info": {
   "codemirror_mode": {
    "name": "ipython",
    "version": 3
   },
   "file_extension": ".py",
   "mimetype": "text/x-python",
   "name": "python",
   "nbconvert_exporter": "python",
   "pygments_lexer": "ipython3",
   "version": "3.5.2"
  }
 },
 "nbformat": 4,
 "nbformat_minor": 2
}
